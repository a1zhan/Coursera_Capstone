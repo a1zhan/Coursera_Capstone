{
 "cells": [
  {
   "cell_type": "markdown",
   "metadata": {},
   "source": [
    "### Question 1"
   ]
  },
  {
   "cell_type": "markdown",
   "metadata": {},
   "source": [
    "Extract HTML table and save it as a Pandas Database"
   ]
  },
  {
   "cell_type": "code",
   "execution_count": 1,
   "metadata": {},
   "outputs": [],
   "source": [
    "import pandas as pd\n",
    "import numpy as np\n",
    "import lxml\n",
    "  \n",
    "import bs4"
   ]
  },
  {
   "cell_type": "code",
   "execution_count": 13,
   "metadata": {},
   "outputs": [
    {
     "data": {
      "text/html": [
       "<div>\n",
       "<style scoped>\n",
       "    .dataframe tbody tr th:only-of-type {\n",
       "        vertical-align: middle;\n",
       "    }\n",
       "\n",
       "    .dataframe tbody tr th {\n",
       "        vertical-align: top;\n",
       "    }\n",
       "\n",
       "    .dataframe thead th {\n",
       "        text-align: right;\n",
       "    }\n",
       "</style>\n",
       "<table border=\"1\" class=\"dataframe\">\n",
       "  <thead>\n",
       "    <tr style=\"text-align: right;\">\n",
       "      <th></th>\n",
       "      <th>PostalCode</th>\n",
       "      <th>Borough</th>\n",
       "      <th>Neighborhood</th>\n",
       "    </tr>\n",
       "  </thead>\n",
       "  <tbody>\n",
       "    <tr>\n",
       "      <th>0</th>\n",
       "      <td>M1B</td>\n",
       "      <td>Scarborough</td>\n",
       "      <td>Malvern, Rouge</td>\n",
       "    </tr>\n",
       "    <tr>\n",
       "      <th>1</th>\n",
       "      <td>M1C</td>\n",
       "      <td>Scarborough</td>\n",
       "      <td>Rouge Hill, Port Union, Highland Creek</td>\n",
       "    </tr>\n",
       "    <tr>\n",
       "      <th>2</th>\n",
       "      <td>M1E</td>\n",
       "      <td>Scarborough</td>\n",
       "      <td>Guildwood, Morningside, West Hill</td>\n",
       "    </tr>\n",
       "    <tr>\n",
       "      <th>3</th>\n",
       "      <td>M1G</td>\n",
       "      <td>Scarborough</td>\n",
       "      <td>Woburn</td>\n",
       "    </tr>\n",
       "    <tr>\n",
       "      <th>4</th>\n",
       "      <td>M1H</td>\n",
       "      <td>Scarborough</td>\n",
       "      <td>Cedarbrae</td>\n",
       "    </tr>\n",
       "  </tbody>\n",
       "</table>\n",
       "</div>"
      ],
      "text/plain": [
       "  PostalCode      Borough                            Neighborhood\n",
       "0        M1B  Scarborough                          Malvern, Rouge\n",
       "1        M1C  Scarborough  Rouge Hill, Port Union, Highland Creek\n",
       "2        M1E  Scarborough       Guildwood, Morningside, West Hill\n",
       "3        M1G  Scarborough                                  Woburn\n",
       "4        M1H  Scarborough                               Cedarbrae"
      ]
     },
     "execution_count": 13,
     "metadata": {},
     "output_type": "execute_result"
    }
   ],
   "source": [
    "df = pd.read_html('https://en.wikipedia.org/wiki/List_of_postal_codes_of_Canada:_M',header=0)[0]\n",
    "\n",
    "df = df.rename(columns={\"Postal Code\": \"PostalCode\"})\n",
    "df = df[(df.PostalCode != \"Not assigned\" ) & (df.Borough != \"Not assigned\") & (df.Neighborhood != \"Not assigned\")]\n",
    "df = df.groupby(['PostalCode','Borough'])['Neighborhood'].apply(', '.join).reset_index()\n",
    "df.head()"
   ]
  },
  {
   "cell_type": "code",
   "execution_count": 7,
   "metadata": {},
   "outputs": [
    {
     "data": {
      "text/plain": [
       "(103, 3)"
      ]
     },
     "execution_count": 7,
     "metadata": {},
     "output_type": "execute_result"
    }
   ],
   "source": [
    "df.shape"
   ]
  },
  {
   "cell_type": "code",
   "execution_count": 8,
   "metadata": {},
   "outputs": [],
   "source": [
    "df.to_csv('Canada_postcode_M.csv')"
   ]
  },
  {
   "cell_type": "code",
   "execution_count": 18,
   "metadata": {},
   "outputs": [],
   "source": [
    "def get_latilong(postal_code):\n",
    "    lati_long_coords = None\n",
    "    while(lati_long_coords is None):\n",
    "        g = geocoder.arcgis('{}, Toronto, Ontario'.format(postal_code))\n",
    "        lati_long_coords = g.latlng\n",
    "    return lati_long_coords\n",
    "\n",
    "postal_codes = df['Postalcode']    \n",
    "coords = [ get_latilong(postal_code) for postal_code in postal_codes.tolist() ]\n",
    "df_coords = pd.DataFrame(coords, columns=['Latitude', 'Longitude'])\n",
    "df['Latitude'] = df_coords['Latitude']\n",
    "df['Longitude'] = df_coords['Longitude']\n",
    "\n",
    "address = 'Toronto'\n",
    "\n",
    "geolocator = Nominatim(user_agent=\"Tor_explorer\")\n",
    "location = geolocator.geocode(address)\n",
    "latitude = location.latitude\n",
    "longitude = location.longitude"
   ]
  },
  {
   "cell_type": "code",
   "execution_count": 14,
   "metadata": {},
   "outputs": [
    {
     "name": "stdout",
     "output_type": "stream",
     "text": [
      "(39, 5)\n"
     ]
    },
    {
     "data": {
      "text/html": [
       "<div>\n",
       "<style scoped>\n",
       "    .dataframe tbody tr th:only-of-type {\n",
       "        vertical-align: middle;\n",
       "    }\n",
       "\n",
       "    .dataframe tbody tr th {\n",
       "        vertical-align: top;\n",
       "    }\n",
       "\n",
       "    .dataframe thead th {\n",
       "        text-align: right;\n",
       "    }\n",
       "</style>\n",
       "<table border=\"1\" class=\"dataframe\">\n",
       "  <thead>\n",
       "    <tr style=\"text-align: right;\">\n",
       "      <th></th>\n",
       "      <th>PostalCode</th>\n",
       "      <th>Borough</th>\n",
       "      <th>Neighborhood</th>\n",
       "      <th>Latitude</th>\n",
       "      <th>Longitude</th>\n",
       "    </tr>\n",
       "  </thead>\n",
       "  <tbody>\n",
       "    <tr>\n",
       "      <th>37</th>\n",
       "      <td>M4E</td>\n",
       "      <td>East Toronto</td>\n",
       "      <td>The Beaches</td>\n",
       "      <td>43.676357</td>\n",
       "      <td>-79.293031</td>\n",
       "    </tr>\n",
       "    <tr>\n",
       "      <th>41</th>\n",
       "      <td>M4K</td>\n",
       "      <td>East Toronto</td>\n",
       "      <td>The Danforth West, Riverdale</td>\n",
       "      <td>43.679557</td>\n",
       "      <td>-79.352188</td>\n",
       "    </tr>\n",
       "    <tr>\n",
       "      <th>42</th>\n",
       "      <td>M4L</td>\n",
       "      <td>East Toronto</td>\n",
       "      <td>India Bazaar, The Beaches West</td>\n",
       "      <td>43.668999</td>\n",
       "      <td>-79.315572</td>\n",
       "    </tr>\n",
       "    <tr>\n",
       "      <th>43</th>\n",
       "      <td>M4M</td>\n",
       "      <td>East Toronto</td>\n",
       "      <td>Studio District</td>\n",
       "      <td>43.659526</td>\n",
       "      <td>-79.340923</td>\n",
       "    </tr>\n",
       "    <tr>\n",
       "      <th>44</th>\n",
       "      <td>M4N</td>\n",
       "      <td>Central Toronto</td>\n",
       "      <td>Lawrence Park</td>\n",
       "      <td>43.728020</td>\n",
       "      <td>-79.388790</td>\n",
       "    </tr>\n",
       "  </tbody>\n",
       "</table>\n",
       "</div>"
      ],
      "text/plain": [
       "   PostalCode          Borough                    Neighborhood   Latitude  \\\n",
       "37        M4E     East Toronto                     The Beaches  43.676357   \n",
       "41        M4K     East Toronto    The Danforth West, Riverdale  43.679557   \n",
       "42        M4L     East Toronto  India Bazaar, The Beaches West  43.668999   \n",
       "43        M4M     East Toronto                 Studio District  43.659526   \n",
       "44        M4N  Central Toronto                   Lawrence Park  43.728020   \n",
       "\n",
       "    Longitude  \n",
       "37 -79.293031  \n",
       "41 -79.352188  \n",
       "42 -79.315572  \n",
       "43 -79.340923  \n",
       "44 -79.388790  "
      ]
     },
     "execution_count": 14,
     "metadata": {},
     "output_type": "execute_result"
    }
   ],
   "source": [
    "ll_df = pd.read_csv('Geospatial_Coordinates.csv')\n",
    "M_df=pd.merge(df,ll_df,on=['PostalCode'])\n",
    "\n",
    "# Filter Toronto:\n",
    "toronto_df=M_df.loc[ M_df['Borough'].str.contains(\"Toronto\")]\n",
    "print(toronto_df.shape)\n",
    "toronto_df.head()"
   ]
  },
  {
   "cell_type": "code",
   "execution_count": 15,
   "metadata": {},
   "outputs": [],
   "source": [
    "neighborhoods=toronto_df.drop(['PostalCode'],1)\n",
    "\n",
    "# Toronto coordinate:\n",
    "latitude = 43.6532 \n",
    "longitude=-79.3832"
   ]
  },
  {
   "cell_type": "code",
   "execution_count": 16,
   "metadata": {},
   "outputs": [
    {
     "name": "stdout",
     "output_type": "stream",
     "text": [
      "The geograpical coordinate of Toronto are 43.6532, -79.3832.\n"
     ]
    }
   ],
   "source": [
    "print('The geograpical coordinate of Toronto are {}, {}.'.format(latitude, longitude))"
   ]
  },
  {
   "cell_type": "code",
   "execution_count": 19,
   "metadata": {},
   "outputs": [
    {
     "data": {
      "text/html": [
       "<div style=\"width:100%;\"><div style=\"position:relative;width:100%;height:0;padding-bottom:60%;\"><span style=\"color:#565656\">Make this Notebook Trusted to load map: File -> Trust Notebook</span><iframe src=\"about:blank\" style=\"position:absolute;width:100%;height:100%;left:0;top:0;border:none !important;\" data-html=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 onload=\"this.contentDocument.open();this.contentDocument.write(atob(this.getAttribute('data-html')));this.contentDocument.close();\" allowfullscreen webkitallowfullscreen mozallowfullscreen></iframe></div></div>"
      ],
      "text/plain": [
       "<folium.folium.Map at 0x29214f34080>"
      ]
     },
     "execution_count": 19,
     "metadata": {},
     "output_type": "execute_result"
    }
   ],
   "source": [
    "map_toronto = folium.Map(location=[latitude, longitude], zoom_start=10)\n",
    "\n",
    "# add markers to map\n",
    "for lat, lng, borough, neighborhood in zip(neighborhoods['Latitude'], neighborhoods['Longitude'], neighborhoods['Borough'], neighborhoods['Neighborhood']):\n",
    "    label = '{}, {}'.format(neighborhood, borough)\n",
    "    label = folium.Popup(label, parse_html=True)\n",
    "    folium.CircleMarker(\n",
    "        [lat, lng],\n",
    "        radius=4,\n",
    "        popup=label,\n",
    "        color='red',\n",
    "        fill=True,\n",
    "        fill_color='#3186cc',\n",
    "        fill_opacity=0.6,\n",
    "        parse_html=False).add_to(map_toronto)  \n",
    "    \n",
    "map_toronto"
   ]
  },
  {
   "cell_type": "code",
   "execution_count": null,
   "metadata": {},
   "outputs": [],
   "source": []
  }
 ],
 "metadata": {
  "kernelspec": {
   "display_name": "Python 3",
   "language": "python",
   "name": "python3"
  },
  "language_info": {
   "codemirror_mode": {
    "name": "ipython",
    "version": 3
   },
   "file_extension": ".py",
   "mimetype": "text/x-python",
   "name": "python",
   "nbconvert_exporter": "python",
   "pygments_lexer": "ipython3",
   "version": "3.6.0"
  }
 },
 "nbformat": 4,
 "nbformat_minor": 4
}
